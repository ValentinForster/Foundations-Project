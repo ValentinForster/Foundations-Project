{
 "cells": [
  {
   "cell_type": "code",
   "execution_count": null,
   "id": "8e73b891-da6d-4b8d-a312-a2361d45c707",
   "metadata": {},
   "outputs": [],
   "source": [
    "import spotipy \n",
    "import pandas as pd\n",
    "from spotipy.oauth2 import SpotifyClientCredentials"
   ]
  },
  {
   "cell_type": "code",
   "execution_count": null,
   "id": "997c7025-9e8a-4b40-9507-74d1ef368357",
   "metadata": {},
   "outputs": [],
   "source": [
    "#Client credentials can be obtained via the spotify for developers website. https://developer.spotify.com\n",
    "#Code origin/inspiration https://blog.devgenius.io/spotify-data-analysis-with-python-a727542beaa7\n",
    "client_credentials_manager = SpotifyClientCredentials(client_id='', client_secret='')\n",
    "sp = spotipy.Spotify(client_credentials_manager=client_credentials_manager)"
   ]
  },
  {
   "cell_type": "code",
   "execution_count": null,
   "id": "77d65d46-171a-403b-9d7b-5230673038c3",
   "metadata": {},
   "outputs": [],
   "source": [
    "#Retrieval of JSON an parsing it into several lists. \n",
    "artist_name = []\n",
    "track_name = []\n",
    "track_popularity = []\n",
    "artist_id = []\n",
    "track_id = []\n",
    "for i in range(0,1000,50):\n",
    "    track_results = sp.search(q='year:2022', type='track', limit=50,offset=i)\n",
    "    for i, t in enumerate(track_results['tracks']['items']):\n",
    "        artist_name.append(t['artists'][0]['name'])\n",
    "        artist_id.append(t['artists'][0]['id'])\n",
    "        track_name.append(t['name'])\n",
    "        track_id.append(t['id'])\n",
    "        track_popularity.append(t['popularity'])"
   ]
  },
  {
   "cell_type": "code",
   "execution_count": null,
   "id": "83552074-5e53-438f-bb9a-dc5606d9e52a",
   "metadata": {},
   "outputs": [],
   "source": [
    "#Transforming the lists into an Dataframe and CSV\n",
    "track_df = pd.DataFrame({'artist_name' : artist_name, 'track_name' : track_name, 'track_id' : track_id, 'track_popularity' : track_popularity, 'artist_id' : artist_id})\n",
    "track_df.head()"
   ]
  },
  {
   "cell_type": "code",
   "execution_count": null,
   "id": "3fe00323-10c1-4ce1-b273-71b91d4ed93b",
   "metadata": {},
   "outputs": [],
   "source": [
    "#Adding additional information regarding the artist\n",
    "artist_popularity = []\n",
    "artist_genres = []\n",
    "artist_followers = []\n",
    "for a_id in track_df.artist_id:\n",
    "    artist = sp.artist(a_id)\n",
    "    artist_popularity.append(artist['popularity'])\n",
    "    artist_genres.append(artist['genres'])\n",
    "    artist_followers.append(artist['followers']['total'])"
   ]
  },
  {
   "cell_type": "code",
   "execution_count": null,
   "id": "11b84892-754c-47e0-a071-1b36c0c4112c",
   "metadata": {},
   "outputs": [],
   "source": [
    "#Transforming the Lists into Dataframe\n",
    "track_df = track_df.assign(artist_popularity=artist_popularity, artist_genres=artist_genres, artist_followers=artist_followers)\n",
    "track_df.head()"
   ]
  },
  {
   "cell_type": "code",
   "execution_count": null,
   "id": "2e0fef38-8fee-4510-8b26-1e6f1cdf7929",
   "metadata": {},
   "outputs": [],
   "source": [
    "#Retrieving information about track features by each track ID\n",
    "track_features = []\n",
    "for t_id in track_df['track_id']:\n",
    "    af = sp.audio_features(t_id)\n",
    "    track_features.append(af)\n",
    "\n",
    "tf_df = pd.DataFrame(columns = ['danceability', 'energy', 'key', 'loudness', 'mode', 'speechiness', 'acousticness', 'instrumentalness', 'liveness', 'valence', 'tempo', 'type', 'id', 'uri', 'track_href', 'analysis_url', 'duration_ms', 'time_signature'])\n",
    "\n",
    "for item in track_features:\n",
    "    for feat in item:\n",
    "        tf_df = tf_df.append(feat, ignore_index=True)\n",
    "    \n",
    "tf_df.head()"
   ]
  },
  {
   "cell_type": "code",
   "execution_count": null,
   "id": "d3c33c6e-d0bd-4c46-aa87-ae87ca0568c4",
   "metadata": {},
   "outputs": [],
   "source": [
    "#remove unnecessary columns\n",
    "cols_to_drop2 = ['key','mode','type', 'uri','track_href','analysis_url']\n",
    "tf_df = tf_df.drop(columns=cols_to_drop2)\n",
    "print(track_df.info())\n",
    "print(tf_df.info())"
   ]
  }
 ],
 "metadata": {
  "kernelspec": {
   "display_name": "Python 3 (ipykernel)",
   "language": "python",
   "name": "python3"
  },
  "language_info": {
   "codemirror_mode": {
    "name": "ipython",
    "version": 3
   },
   "file_extension": ".py",
   "mimetype": "text/x-python",
   "name": "python",
   "nbconvert_exporter": "python",
   "pygments_lexer": "ipython3",
   "version": "3.11.1"
  }
 },
 "nbformat": 4,
 "nbformat_minor": 5
}
